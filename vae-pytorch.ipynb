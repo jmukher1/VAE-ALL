{
 "cells": [
  {
   "cell_type": "markdown",
   "metadata": {},
   "source": [
    "# VAE for MNIST  \n",
    "\n",
    "The purpose of this demo is to help you learn about variational autoencoder. The algorithm is being implemented is from the paper \"Auto-Encoding Variational Bayes\", by Diederik P Kingma, Max Welling (https://arxiv.org/abs/1312.6114).\n",
    "\n",
    "Followed the logic of example vae come with PyTorch distribution in https://github.com/pytorch/examples/blob/master/vae/main.py.\n",
    "\n",
    "You are free to change model acrhitecture, or any part of the logic. \n",
    "\n",
    "If you have any suggestions or find errors, please, don't be hesitate to email me at jayanta.jayantamukherjee@gmail.com\n"
   ]
  },
  {
   "cell_type": "code",
   "execution_count": 1,
   "metadata": {},
   "outputs": [],
   "source": [
    "from __future__ import print_function\n",
    "import argparse\n",
    "import torch\n",
    "from torch.autograd import Variable\n",
    "import torch.utils.data\n",
    "from torch import nn, optim\n",
    "from torch.nn import functional as F\n",
    "from torchvision import datasets, transforms\n",
    "from torchvision.utils import save_image\n",
    "import matplotlib.pyplot as plt"
   ]
  },
  {
   "cell_type": "markdown",
   "metadata": {},
   "source": [
    "## Define VAE Class"
   ]
  },
  {
   "cell_type": "code",
   "execution_count": 2,
   "metadata": {},
   "outputs": [],
   "source": [
    "class VAE(nn.Module):\n",
    "    def __init__(self):\n",
    "        super(VAE, self).__init__()\n",
    "\n",
    "        self.fc1 = nn.Linear(784, 400)\n",
    "        self.fc21 = nn.Linear(400, 20)\n",
    "        self.fc22 = nn.Linear(400, 20)\n",
    "        self.fc3 = nn.Linear(20, 400)\n",
    "        self.fc4 = nn.Linear(400, 784)\n",
    "\n",
    "    def encode(self, x):\n",
    "        h1 = F.relu(self.fc1(x))\n",
    "        return self.fc21(h1), self.fc22(h1)\n",
    "\n",
    "    def reparameterize(self, mu, logvar):\n",
    "        std = torch.exp(0.5*logvar)\n",
    "        eps = torch.randn_like(std)\n",
    "        return mu + eps*std\n",
    "\n",
    "    def decode(self, z):\n",
    "        h3 = F.relu(self.fc3(z))\n",
    "        return torch.sigmoid(self.fc4(h3))\n",
    "\n",
    "    def forward(self, x):\n",
    "        mu, logvar = self.encode(x.view(-1, 784))\n",
    "        z = self.reparameterize(mu, logvar)\n",
    "        return self.decode(z), mu, logvar\n"
   ]
  },
  {
   "cell_type": "code",
   "execution_count": 3,
   "metadata": {},
   "outputs": [
    {
     "name": "stderr",
     "output_type": "stream",
     "text": [
      "/home/jay/.conda/envs/jay/lib/python3.6/site-packages/torch/cuda/__init__.py:52: UserWarning: CUDA initialization: Unexpected error from cudaGetDeviceCount(). Did you run some cuda functions before calling NumCudaDevices() that might have already set an error? Error 803: system has unsupported display driver / cuda driver combination (Triggered internally at  /pytorch/c10/cuda/CUDAFunctions.cpp:100.)\n",
      "  return torch._C._cuda_getDeviceCount() > 0\n"
     ]
    }
   ],
   "source": [
    "parser = argparse.ArgumentParser(description='VAE MNIST Example')\n",
    "parser.add_argument('--batch-size', type=int, default=128, metavar='N',\n",
    "                    help='input batch size for training (default: 128)')\n",
    "parser.add_argument('--epochs', type=int, default=10, metavar='N',\n",
    "                    help='number of epochs to train (default: 10)')\n",
    "parser.add_argument('--no-cuda', action='store_true', default=False,\n",
    "                    help='disables CUDA training')\n",
    "parser.add_argument('--seed', type=int, default=1, metavar='S',\n",
    "                    help='random seed (default: 1)')\n",
    "parser.add_argument('--log-interval', type=int, default=10, metavar='N',\n",
    "                    help='how many batches to wait before logging training status')\n",
    "args, unknown = parser.parse_known_args()\n",
    "args.cuda = not args.no_cuda and torch.cuda.is_available()\n",
    "\n",
    "torch.manual_seed(args.seed)\n",
    "\n",
    "device = torch.device(\"cuda\" if args.cuda else \"cpu\")\n",
    "\n",
    "kwargs = {'num_workers': 1, 'pin_memory': True} if args.cuda else {}\n",
    "train_loader = torch.utils.data.DataLoader(\n",
    "    datasets.MNIST('../data', train=True, download=True,\n",
    "                   transform=transforms.ToTensor()),\n",
    "    batch_size=args.batch_size, shuffle=True, **kwargs)\n",
    "test_loader = torch.utils.data.DataLoader(\n",
    "    datasets.MNIST('../data', train=False, transform=transforms.ToTensor()),\n",
    "    batch_size=args.batch_size, shuffle=True, **kwargs)\n",
    "\n",
    "model = VAE().to(device)\n",
    "optimizer = optim.Adam(model.parameters(), lr=1e-3)"
   ]
  },
  {
   "cell_type": "markdown",
   "metadata": {},
   "source": [
    "#### Modeling Loss\n",
    "Reconstruction + KL divergence losses summed over all elements and batch"
   ]
  },
  {
   "cell_type": "code",
   "execution_count": 4,
   "metadata": {},
   "outputs": [],
   "source": [
    "def loss_function(recon_x, x, mu, logvar):\n",
    "    BCE = F.binary_cross_entropy(recon_x, x.view(-1, 784), reduction='sum')\n",
    "\n",
    "    # see Appendix B from VAE paper:\n",
    "    # Kingma and Welling. Auto-Encoding Variational Bayes. ICLR, 2014\n",
    "    # https://arxiv.org/abs/1312.6114\n",
    "    # 0.5 * sum(1 + log(sigma^2) - mu^2 - sigma^2)\n",
    "    KLD = -0.5 * torch.sum(1 + logvar - mu.pow(2) - logvar.exp())\n",
    "\n",
    "    return BCE + KLD"
   ]
  },
  {
   "cell_type": "code",
   "execution_count": 5,
   "metadata": {},
   "outputs": [],
   "source": [
    "def train(epoch):\n",
    "    model.train()\n",
    "    train_loss = 0\n",
    "    for batch_idx, (data, _) in enumerate(train_loader):\n",
    "        data = data.to(device)\n",
    "        optimizer.zero_grad()\n",
    "        recon_batch, mu, logvar = model(data)\n",
    "        loss = loss_function(recon_batch, data, mu, logvar)\n",
    "        loss.backward()\n",
    "        train_loss += loss.item()\n",
    "        optimizer.step()\n",
    "        if batch_idx % args.log_interval == 0:\n",
    "            print('Train Epoch: {} [{}/{} ({:.0f}%)]\\tLoss: {:.6f}'.format(\n",
    "                epoch, batch_idx * len(data), len(train_loader.dataset),\n",
    "                100. * batch_idx / len(train_loader),\n",
    "                loss.item() / len(data)))\n",
    "\n",
    "    print('====> Epoch: {} Average loss: {:.4f}'.format(\n",
    "          epoch, train_loss / len(train_loader.dataset)))"
   ]
  },
  {
   "cell_type": "markdown",
   "metadata": {},
   "source": [
    "#### Test VAE"
   ]
  },
  {
   "cell_type": "code",
   "execution_count": 6,
   "metadata": {},
   "outputs": [],
   "source": [
    "def test(epoch):\n",
    "    model.eval()\n",
    "    test_loss = 0\n",
    "    with torch.no_grad():\n",
    "        for i, (data, _) in enumerate(test_loader):\n",
    "            data = data.to(device)\n",
    "            recon_batch, mu, logvar = model(data)\n",
    "            test_loss += loss_function(recon_batch, data, mu, logvar).item()\n",
    "            if i == 0:\n",
    "                n = min(data.size(0), 8)\n",
    "                comparison = torch.cat([data[:n],\n",
    "                                      recon_batch.view(args.batch_size, 1, 28, 28)[:n]])\n",
    "                save_image(comparison.cpu(),\n",
    "                         'results/reconstruction_' + str(epoch) + '.png', nrow=n)\n",
    "\n",
    "    test_loss /= len(test_loader.dataset)\n",
    "    print('====> Test set loss: {:.4f}'.format(test_loss))"
   ]
  },
  {
   "cell_type": "markdown",
   "metadata": {},
   "source": [
    "#### Running VAE Model"
   ]
  },
  {
   "cell_type": "code",
   "execution_count": 7,
   "metadata": {},
   "outputs": [
    {
     "name": "stdout",
     "output_type": "stream",
     "text": [
      "Train Epoch: 1 [0/60000 (0%)]\tLoss: 550.571960\n",
      "Train Epoch: 1 [1280/60000 (2%)]\tLoss: 291.882019\n",
      "Train Epoch: 1 [2560/60000 (4%)]\tLoss: 241.955002\n",
      "Train Epoch: 1 [3840/60000 (6%)]\tLoss: 212.320740\n",
      "Train Epoch: 1 [5120/60000 (9%)]\tLoss: 214.543991\n",
      "Train Epoch: 1 [6400/60000 (11%)]\tLoss: 216.663116\n",
      "Train Epoch: 1 [7680/60000 (13%)]\tLoss: 201.579803\n",
      "Train Epoch: 1 [8960/60000 (15%)]\tLoss: 195.256744\n",
      "Train Epoch: 1 [10240/60000 (17%)]\tLoss: 197.438828\n",
      "Train Epoch: 1 [11520/60000 (19%)]\tLoss: 189.910568\n",
      "Train Epoch: 1 [12800/60000 (21%)]\tLoss: 185.966095\n",
      "Train Epoch: 1 [14080/60000 (23%)]\tLoss: 181.120499\n",
      "Train Epoch: 1 [15360/60000 (26%)]\tLoss: 169.185745\n",
      "Train Epoch: 1 [16640/60000 (28%)]\tLoss: 166.216782\n",
      "Train Epoch: 1 [17920/60000 (30%)]\tLoss: 166.638336\n",
      "Train Epoch: 1 [19200/60000 (32%)]\tLoss: 164.184158\n",
      "Train Epoch: 1 [20480/60000 (34%)]\tLoss: 167.744049\n",
      "Train Epoch: 1 [21760/60000 (36%)]\tLoss: 154.769089\n",
      "Train Epoch: 1 [23040/60000 (38%)]\tLoss: 153.823181\n",
      "Train Epoch: 1 [24320/60000 (41%)]\tLoss: 149.835205\n",
      "Train Epoch: 1 [25600/60000 (43%)]\tLoss: 155.699875\n",
      "Train Epoch: 1 [26880/60000 (45%)]\tLoss: 155.967972\n",
      "Train Epoch: 1 [28160/60000 (47%)]\tLoss: 150.798843\n",
      "Train Epoch: 1 [29440/60000 (49%)]\tLoss: 148.593994\n",
      "Train Epoch: 1 [30720/60000 (51%)]\tLoss: 145.405960\n",
      "Train Epoch: 1 [32000/60000 (53%)]\tLoss: 143.349457\n",
      "Train Epoch: 1 [33280/60000 (55%)]\tLoss: 145.000565\n",
      "Train Epoch: 1 [34560/60000 (58%)]\tLoss: 145.192429\n",
      "Train Epoch: 1 [35840/60000 (60%)]\tLoss: 142.164520\n",
      "Train Epoch: 1 [37120/60000 (62%)]\tLoss: 138.331512\n",
      "Train Epoch: 1 [38400/60000 (64%)]\tLoss: 135.495834\n",
      "Train Epoch: 1 [39680/60000 (66%)]\tLoss: 140.984283\n",
      "Train Epoch: 1 [40960/60000 (68%)]\tLoss: 135.773376\n",
      "Train Epoch: 1 [42240/60000 (70%)]\tLoss: 135.770111\n",
      "Train Epoch: 1 [43520/60000 (72%)]\tLoss: 136.042206\n",
      "Train Epoch: 1 [44800/60000 (75%)]\tLoss: 130.326508\n",
      "Train Epoch: 1 [46080/60000 (77%)]\tLoss: 137.903503\n",
      "Train Epoch: 1 [47360/60000 (79%)]\tLoss: 135.831207\n",
      "Train Epoch: 1 [48640/60000 (81%)]\tLoss: 134.079086\n",
      "Train Epoch: 1 [49920/60000 (83%)]\tLoss: 130.342636\n",
      "Train Epoch: 1 [51200/60000 (85%)]\tLoss: 130.448746\n",
      "Train Epoch: 1 [52480/60000 (87%)]\tLoss: 133.418823\n",
      "Train Epoch: 1 [53760/60000 (90%)]\tLoss: 124.606964\n",
      "Train Epoch: 1 [55040/60000 (92%)]\tLoss: 130.115494\n",
      "Train Epoch: 1 [56320/60000 (94%)]\tLoss: 131.364868\n",
      "Train Epoch: 1 [57600/60000 (96%)]\tLoss: 129.319702\n",
      "Train Epoch: 1 [58880/60000 (98%)]\tLoss: 131.404099\n",
      "====> Epoch: 1 Average loss: 164.2273\n",
      "====> Test set loss: 126.7015\n",
      "Train Epoch: 2 [0/60000 (0%)]\tLoss: 124.758591\n",
      "Train Epoch: 2 [1280/60000 (2%)]\tLoss: 127.367104\n",
      "Train Epoch: 2 [2560/60000 (4%)]\tLoss: 130.402588\n",
      "Train Epoch: 2 [3840/60000 (6%)]\tLoss: 126.949028\n",
      "Train Epoch: 2 [5120/60000 (9%)]\tLoss: 128.129196\n",
      "Train Epoch: 2 [6400/60000 (11%)]\tLoss: 124.768242\n",
      "Train Epoch: 2 [7680/60000 (13%)]\tLoss: 127.576584\n",
      "Train Epoch: 2 [8960/60000 (15%)]\tLoss: 125.571213\n",
      "Train Epoch: 2 [10240/60000 (17%)]\tLoss: 121.420158\n",
      "Train Epoch: 2 [11520/60000 (19%)]\tLoss: 127.614853\n",
      "Train Epoch: 2 [12800/60000 (21%)]\tLoss: 123.384727\n",
      "Train Epoch: 2 [14080/60000 (23%)]\tLoss: 121.177414\n",
      "Train Epoch: 2 [15360/60000 (26%)]\tLoss: 126.527939\n",
      "Train Epoch: 2 [16640/60000 (28%)]\tLoss: 126.902267\n",
      "Train Epoch: 2 [17920/60000 (30%)]\tLoss: 119.833824\n",
      "Train Epoch: 2 [19200/60000 (32%)]\tLoss: 121.781036\n",
      "Train Epoch: 2 [20480/60000 (34%)]\tLoss: 118.444046\n",
      "Train Epoch: 2 [21760/60000 (36%)]\tLoss: 120.329735\n",
      "Train Epoch: 2 [23040/60000 (38%)]\tLoss: 124.858711\n",
      "Train Epoch: 2 [24320/60000 (41%)]\tLoss: 118.045822\n",
      "Train Epoch: 2 [25600/60000 (43%)]\tLoss: 122.440392\n",
      "Train Epoch: 2 [26880/60000 (45%)]\tLoss: 121.221283\n",
      "Train Epoch: 2 [28160/60000 (47%)]\tLoss: 115.444000\n",
      "Train Epoch: 2 [29440/60000 (49%)]\tLoss: 121.534271\n",
      "Train Epoch: 2 [30720/60000 (51%)]\tLoss: 121.413681\n",
      "Train Epoch: 2 [32000/60000 (53%)]\tLoss: 118.999191\n",
      "Train Epoch: 2 [33280/60000 (55%)]\tLoss: 121.538376\n",
      "Train Epoch: 2 [34560/60000 (58%)]\tLoss: 119.896866\n",
      "Train Epoch: 2 [35840/60000 (60%)]\tLoss: 119.722443\n",
      "Train Epoch: 2 [37120/60000 (62%)]\tLoss: 122.237274\n",
      "Train Epoch: 2 [38400/60000 (64%)]\tLoss: 123.360565\n",
      "Train Epoch: 2 [39680/60000 (66%)]\tLoss: 116.022858\n",
      "Train Epoch: 2 [40960/60000 (68%)]\tLoss: 114.953316\n",
      "Train Epoch: 2 [42240/60000 (70%)]\tLoss: 120.664894\n",
      "Train Epoch: 2 [43520/60000 (72%)]\tLoss: 110.365395\n",
      "Train Epoch: 2 [44800/60000 (75%)]\tLoss: 121.656151\n",
      "Train Epoch: 2 [46080/60000 (77%)]\tLoss: 119.887222\n",
      "Train Epoch: 2 [47360/60000 (79%)]\tLoss: 119.669586\n",
      "Train Epoch: 2 [48640/60000 (81%)]\tLoss: 116.021484\n",
      "Train Epoch: 2 [49920/60000 (83%)]\tLoss: 113.492043\n",
      "Train Epoch: 2 [51200/60000 (85%)]\tLoss: 120.696625\n",
      "Train Epoch: 2 [52480/60000 (87%)]\tLoss: 113.903831\n",
      "Train Epoch: 2 [53760/60000 (90%)]\tLoss: 112.784927\n",
      "Train Epoch: 2 [55040/60000 (92%)]\tLoss: 116.218658\n",
      "Train Epoch: 2 [56320/60000 (94%)]\tLoss: 117.516388\n",
      "Train Epoch: 2 [57600/60000 (96%)]\tLoss: 124.576340\n",
      "Train Epoch: 2 [58880/60000 (98%)]\tLoss: 114.284859\n",
      "====> Epoch: 2 Average loss: 121.3059\n",
      "====> Test set loss: 115.5882\n",
      "Train Epoch: 3 [0/60000 (0%)]\tLoss: 113.454681\n",
      "Train Epoch: 3 [1280/60000 (2%)]\tLoss: 118.378174\n",
      "Train Epoch: 3 [2560/60000 (4%)]\tLoss: 117.660385\n",
      "Train Epoch: 3 [3840/60000 (6%)]\tLoss: 114.411606\n",
      "Train Epoch: 3 [5120/60000 (9%)]\tLoss: 109.670578\n",
      "Train Epoch: 3 [6400/60000 (11%)]\tLoss: 115.219978\n",
      "Train Epoch: 3 [7680/60000 (13%)]\tLoss: 117.826477\n",
      "Train Epoch: 3 [8960/60000 (15%)]\tLoss: 115.065308\n",
      "Train Epoch: 3 [10240/60000 (17%)]\tLoss: 119.703720\n",
      "Train Epoch: 3 [11520/60000 (19%)]\tLoss: 112.027580\n",
      "Train Epoch: 3 [12800/60000 (21%)]\tLoss: 118.960052\n",
      "Train Epoch: 3 [14080/60000 (23%)]\tLoss: 108.411926\n",
      "Train Epoch: 3 [15360/60000 (26%)]\tLoss: 116.667282\n",
      "Train Epoch: 3 [16640/60000 (28%)]\tLoss: 112.934525\n",
      "Train Epoch: 3 [17920/60000 (30%)]\tLoss: 115.640610\n",
      "Train Epoch: 3 [19200/60000 (32%)]\tLoss: 111.541504\n",
      "Train Epoch: 3 [20480/60000 (34%)]\tLoss: 115.460243\n",
      "Train Epoch: 3 [21760/60000 (36%)]\tLoss: 112.812149\n",
      "Train Epoch: 3 [23040/60000 (38%)]\tLoss: 113.200310\n",
      "Train Epoch: 3 [24320/60000 (41%)]\tLoss: 113.042526\n",
      "Train Epoch: 3 [25600/60000 (43%)]\tLoss: 114.041550\n",
      "Train Epoch: 3 [26880/60000 (45%)]\tLoss: 114.082703\n",
      "Train Epoch: 3 [28160/60000 (47%)]\tLoss: 115.037170\n",
      "Train Epoch: 3 [29440/60000 (49%)]\tLoss: 115.682312\n",
      "Train Epoch: 3 [30720/60000 (51%)]\tLoss: 114.926392\n",
      "Train Epoch: 3 [32000/60000 (53%)]\tLoss: 114.846130\n",
      "Train Epoch: 3 [33280/60000 (55%)]\tLoss: 111.957123\n",
      "Train Epoch: 3 [34560/60000 (58%)]\tLoss: 112.767365\n",
      "Train Epoch: 3 [35840/60000 (60%)]\tLoss: 110.988205\n",
      "Train Epoch: 3 [37120/60000 (62%)]\tLoss: 110.646500\n",
      "Train Epoch: 3 [38400/60000 (64%)]\tLoss: 112.215790\n",
      "Train Epoch: 3 [39680/60000 (66%)]\tLoss: 108.889053\n",
      "Train Epoch: 3 [40960/60000 (68%)]\tLoss: 114.684128\n",
      "Train Epoch: 3 [42240/60000 (70%)]\tLoss: 114.362167\n",
      "Train Epoch: 3 [43520/60000 (72%)]\tLoss: 113.558418\n",
      "Train Epoch: 3 [44800/60000 (75%)]\tLoss: 112.206383\n",
      "Train Epoch: 3 [46080/60000 (77%)]\tLoss: 113.875397\n",
      "Train Epoch: 3 [47360/60000 (79%)]\tLoss: 112.797470\n",
      "Train Epoch: 3 [48640/60000 (81%)]\tLoss: 116.890518\n",
      "Train Epoch: 3 [49920/60000 (83%)]\tLoss: 110.999336\n",
      "Train Epoch: 3 [51200/60000 (85%)]\tLoss: 114.829567\n",
      "Train Epoch: 3 [52480/60000 (87%)]\tLoss: 109.371292\n",
      "Train Epoch: 3 [53760/60000 (90%)]\tLoss: 118.126793\n",
      "Train Epoch: 3 [55040/60000 (92%)]\tLoss: 118.428345\n",
      "Train Epoch: 3 [56320/60000 (94%)]\tLoss: 114.000763\n",
      "Train Epoch: 3 [57600/60000 (96%)]\tLoss: 114.566673\n",
      "Train Epoch: 3 [58880/60000 (98%)]\tLoss: 111.914215\n",
      "====> Epoch: 3 Average loss: 114.3714\n",
      "====> Test set loss: 111.7912\n",
      "Train Epoch: 4 [0/60000 (0%)]\tLoss: 116.283012\n",
      "Train Epoch: 4 [1280/60000 (2%)]\tLoss: 116.906120\n",
      "Train Epoch: 4 [2560/60000 (4%)]\tLoss: 110.903671\n",
      "Train Epoch: 4 [3840/60000 (6%)]\tLoss: 110.226639\n",
      "Train Epoch: 4 [5120/60000 (9%)]\tLoss: 107.586517\n",
      "Train Epoch: 4 [6400/60000 (11%)]\tLoss: 112.456512\n",
      "Train Epoch: 4 [7680/60000 (13%)]\tLoss: 113.504074\n",
      "Train Epoch: 4 [8960/60000 (15%)]\tLoss: 110.012344\n",
      "Train Epoch: 4 [10240/60000 (17%)]\tLoss: 111.893219\n",
      "Train Epoch: 4 [11520/60000 (19%)]\tLoss: 112.417160\n",
      "Train Epoch: 4 [12800/60000 (21%)]\tLoss: 110.775238\n",
      "Train Epoch: 4 [14080/60000 (23%)]\tLoss: 112.246216\n",
      "Train Epoch: 4 [15360/60000 (26%)]\tLoss: 113.388321\n",
      "Train Epoch: 4 [16640/60000 (28%)]\tLoss: 109.349159\n"
     ]
    },
    {
     "name": "stdout",
     "output_type": "stream",
     "text": [
      "Train Epoch: 4 [17920/60000 (30%)]\tLoss: 117.983513\n",
      "Train Epoch: 4 [19200/60000 (32%)]\tLoss: 107.308495\n",
      "Train Epoch: 4 [20480/60000 (34%)]\tLoss: 116.834656\n",
      "Train Epoch: 4 [21760/60000 (36%)]\tLoss: 117.640274\n",
      "Train Epoch: 4 [23040/60000 (38%)]\tLoss: 117.188141\n",
      "Train Epoch: 4 [24320/60000 (41%)]\tLoss: 114.023590\n",
      "Train Epoch: 4 [25600/60000 (43%)]\tLoss: 111.495850\n",
      "Train Epoch: 4 [26880/60000 (45%)]\tLoss: 114.224274\n",
      "Train Epoch: 4 [28160/60000 (47%)]\tLoss: 111.411781\n",
      "Train Epoch: 4 [29440/60000 (49%)]\tLoss: 109.420708\n",
      "Train Epoch: 4 [30720/60000 (51%)]\tLoss: 103.320969\n",
      "Train Epoch: 4 [32000/60000 (53%)]\tLoss: 108.005959\n",
      "Train Epoch: 4 [33280/60000 (55%)]\tLoss: 112.992325\n",
      "Train Epoch: 4 [34560/60000 (58%)]\tLoss: 107.840591\n",
      "Train Epoch: 4 [35840/60000 (60%)]\tLoss: 117.426643\n",
      "Train Epoch: 4 [37120/60000 (62%)]\tLoss: 110.101624\n",
      "Train Epoch: 4 [38400/60000 (64%)]\tLoss: 113.872559\n",
      "Train Epoch: 4 [39680/60000 (66%)]\tLoss: 114.759079\n",
      "Train Epoch: 4 [40960/60000 (68%)]\tLoss: 109.668068\n",
      "Train Epoch: 4 [42240/60000 (70%)]\tLoss: 114.135094\n",
      "Train Epoch: 4 [43520/60000 (72%)]\tLoss: 112.343163\n",
      "Train Epoch: 4 [44800/60000 (75%)]\tLoss: 114.072701\n",
      "Train Epoch: 4 [46080/60000 (77%)]\tLoss: 110.709869\n",
      "Train Epoch: 4 [47360/60000 (79%)]\tLoss: 108.627731\n",
      "Train Epoch: 4 [48640/60000 (81%)]\tLoss: 113.560852\n",
      "Train Epoch: 4 [49920/60000 (83%)]\tLoss: 113.320961\n",
      "Train Epoch: 4 [51200/60000 (85%)]\tLoss: 108.850998\n",
      "Train Epoch: 4 [52480/60000 (87%)]\tLoss: 108.228867\n",
      "Train Epoch: 4 [53760/60000 (90%)]\tLoss: 113.330238\n",
      "Train Epoch: 4 [55040/60000 (92%)]\tLoss: 111.603439\n",
      "Train Epoch: 4 [56320/60000 (94%)]\tLoss: 110.088501\n",
      "Train Epoch: 4 [57600/60000 (96%)]\tLoss: 109.591118\n",
      "Train Epoch: 4 [58880/60000 (98%)]\tLoss: 109.061989\n",
      "====> Epoch: 4 Average loss: 111.3608\n",
      "====> Test set loss: 109.2241\n",
      "Train Epoch: 5 [0/60000 (0%)]\tLoss: 106.362946\n",
      "Train Epoch: 5 [1280/60000 (2%)]\tLoss: 109.952065\n",
      "Train Epoch: 5 [2560/60000 (4%)]\tLoss: 108.810989\n",
      "Train Epoch: 5 [3840/60000 (6%)]\tLoss: 107.351562\n",
      "Train Epoch: 5 [5120/60000 (9%)]\tLoss: 109.125763\n",
      "Train Epoch: 5 [6400/60000 (11%)]\tLoss: 112.981842\n",
      "Train Epoch: 5 [7680/60000 (13%)]\tLoss: 109.046806\n",
      "Train Epoch: 5 [8960/60000 (15%)]\tLoss: 109.602058\n",
      "Train Epoch: 5 [10240/60000 (17%)]\tLoss: 109.761253\n",
      "Train Epoch: 5 [11520/60000 (19%)]\tLoss: 112.076927\n",
      "Train Epoch: 5 [12800/60000 (21%)]\tLoss: 111.751999\n",
      "Train Epoch: 5 [14080/60000 (23%)]\tLoss: 112.563477\n",
      "Train Epoch: 5 [15360/60000 (26%)]\tLoss: 112.305305\n",
      "Train Epoch: 5 [16640/60000 (28%)]\tLoss: 109.478050\n",
      "Train Epoch: 5 [17920/60000 (30%)]\tLoss: 113.568855\n",
      "Train Epoch: 5 [19200/60000 (32%)]\tLoss: 110.863998\n",
      "Train Epoch: 5 [20480/60000 (34%)]\tLoss: 110.186829\n",
      "Train Epoch: 5 [21760/60000 (36%)]\tLoss: 109.949684\n",
      "Train Epoch: 5 [23040/60000 (38%)]\tLoss: 111.663467\n",
      "Train Epoch: 5 [24320/60000 (41%)]\tLoss: 109.962311\n",
      "Train Epoch: 5 [25600/60000 (43%)]\tLoss: 108.012413\n",
      "Train Epoch: 5 [26880/60000 (45%)]\tLoss: 108.709183\n",
      "Train Epoch: 5 [28160/60000 (47%)]\tLoss: 109.110435\n",
      "Train Epoch: 5 [29440/60000 (49%)]\tLoss: 112.489082\n",
      "Train Epoch: 5 [30720/60000 (51%)]\tLoss: 108.078445\n",
      "Train Epoch: 5 [32000/60000 (53%)]\tLoss: 107.789261\n",
      "Train Epoch: 5 [33280/60000 (55%)]\tLoss: 110.658371\n",
      "Train Epoch: 5 [34560/60000 (58%)]\tLoss: 105.711632\n",
      "Train Epoch: 5 [35840/60000 (60%)]\tLoss: 108.339508\n",
      "Train Epoch: 5 [37120/60000 (62%)]\tLoss: 111.488632\n",
      "Train Epoch: 5 [38400/60000 (64%)]\tLoss: 111.052711\n",
      "Train Epoch: 5 [39680/60000 (66%)]\tLoss: 110.768181\n",
      "Train Epoch: 5 [40960/60000 (68%)]\tLoss: 107.231201\n",
      "Train Epoch: 5 [42240/60000 (70%)]\tLoss: 108.364243\n",
      "Train Epoch: 5 [43520/60000 (72%)]\tLoss: 111.800484\n",
      "Train Epoch: 5 [44800/60000 (75%)]\tLoss: 110.214149\n",
      "Train Epoch: 5 [46080/60000 (77%)]\tLoss: 107.176376\n",
      "Train Epoch: 5 [47360/60000 (79%)]\tLoss: 108.462364\n",
      "Train Epoch: 5 [48640/60000 (81%)]\tLoss: 110.447021\n",
      "Train Epoch: 5 [49920/60000 (83%)]\tLoss: 112.895226\n",
      "Train Epoch: 5 [51200/60000 (85%)]\tLoss: 107.317780\n",
      "Train Epoch: 5 [52480/60000 (87%)]\tLoss: 110.007568\n",
      "Train Epoch: 5 [53760/60000 (90%)]\tLoss: 107.797523\n",
      "Train Epoch: 5 [55040/60000 (92%)]\tLoss: 110.428658\n",
      "Train Epoch: 5 [56320/60000 (94%)]\tLoss: 105.473740\n",
      "Train Epoch: 5 [57600/60000 (96%)]\tLoss: 106.172958\n",
      "Train Epoch: 5 [58880/60000 (98%)]\tLoss: 113.704002\n",
      "====> Epoch: 5 Average loss: 109.5554\n",
      "====> Test set loss: 108.1498\n",
      "Train Epoch: 6 [0/60000 (0%)]\tLoss: 110.109482\n",
      "Train Epoch: 6 [1280/60000 (2%)]\tLoss: 106.040329\n",
      "Train Epoch: 6 [2560/60000 (4%)]\tLoss: 106.369972\n",
      "Train Epoch: 6 [3840/60000 (6%)]\tLoss: 106.454575\n",
      "Train Epoch: 6 [5120/60000 (9%)]\tLoss: 107.621506\n",
      "Train Epoch: 6 [6400/60000 (11%)]\tLoss: 107.271461\n",
      "Train Epoch: 6 [7680/60000 (13%)]\tLoss: 108.396683\n",
      "Train Epoch: 6 [8960/60000 (15%)]\tLoss: 111.119797\n",
      "Train Epoch: 6 [10240/60000 (17%)]\tLoss: 110.274361\n",
      "Train Epoch: 6 [11520/60000 (19%)]\tLoss: 105.948181\n",
      "Train Epoch: 6 [12800/60000 (21%)]\tLoss: 110.479286\n",
      "Train Epoch: 6 [14080/60000 (23%)]\tLoss: 108.238419\n",
      "Train Epoch: 6 [15360/60000 (26%)]\tLoss: 108.288933\n",
      "Train Epoch: 6 [16640/60000 (28%)]\tLoss: 106.596634\n",
      "Train Epoch: 6 [17920/60000 (30%)]\tLoss: 110.649429\n",
      "Train Epoch: 6 [19200/60000 (32%)]\tLoss: 108.969864\n",
      "Train Epoch: 6 [20480/60000 (34%)]\tLoss: 110.998245\n",
      "Train Epoch: 6 [21760/60000 (36%)]\tLoss: 111.308762\n",
      "Train Epoch: 6 [23040/60000 (38%)]\tLoss: 110.451477\n",
      "Train Epoch: 6 [24320/60000 (41%)]\tLoss: 105.734894\n",
      "Train Epoch: 6 [25600/60000 (43%)]\tLoss: 111.246483\n",
      "Train Epoch: 6 [26880/60000 (45%)]\tLoss: 109.064598\n",
      "Train Epoch: 6 [28160/60000 (47%)]\tLoss: 111.689659\n",
      "Train Epoch: 6 [29440/60000 (49%)]\tLoss: 103.459984\n",
      "Train Epoch: 6 [30720/60000 (51%)]\tLoss: 104.249802\n",
      "Train Epoch: 6 [32000/60000 (53%)]\tLoss: 109.624977\n",
      "Train Epoch: 6 [33280/60000 (55%)]\tLoss: 110.449455\n",
      "Train Epoch: 6 [34560/60000 (58%)]\tLoss: 113.594246\n",
      "Train Epoch: 6 [35840/60000 (60%)]\tLoss: 104.353210\n",
      "Train Epoch: 6 [37120/60000 (62%)]\tLoss: 107.450409\n",
      "Train Epoch: 6 [38400/60000 (64%)]\tLoss: 109.565651\n",
      "Train Epoch: 6 [39680/60000 (66%)]\tLoss: 112.721664\n",
      "Train Epoch: 6 [40960/60000 (68%)]\tLoss: 108.965279\n",
      "Train Epoch: 6 [42240/60000 (70%)]\tLoss: 113.729813\n",
      "Train Epoch: 6 [43520/60000 (72%)]\tLoss: 112.379539\n",
      "Train Epoch: 6 [44800/60000 (75%)]\tLoss: 108.295021\n",
      "Train Epoch: 6 [46080/60000 (77%)]\tLoss: 108.890572\n",
      "Train Epoch: 6 [47360/60000 (79%)]\tLoss: 107.930832\n",
      "Train Epoch: 6 [48640/60000 (81%)]\tLoss: 104.946106\n",
      "Train Epoch: 6 [49920/60000 (83%)]\tLoss: 107.287430\n",
      "Train Epoch: 6 [51200/60000 (85%)]\tLoss: 104.770493\n",
      "Train Epoch: 6 [52480/60000 (87%)]\tLoss: 109.134232\n",
      "Train Epoch: 6 [53760/60000 (90%)]\tLoss: 108.202209\n",
      "Train Epoch: 6 [55040/60000 (92%)]\tLoss: 108.835014\n",
      "Train Epoch: 6 [56320/60000 (94%)]\tLoss: 107.536140\n",
      "Train Epoch: 6 [57600/60000 (96%)]\tLoss: 109.596382\n",
      "Train Epoch: 6 [58880/60000 (98%)]\tLoss: 108.068336\n",
      "====> Epoch: 6 Average loss: 108.4096\n",
      "====> Test set loss: 107.1457\n",
      "Train Epoch: 7 [0/60000 (0%)]\tLoss: 109.333603\n",
      "Train Epoch: 7 [1280/60000 (2%)]\tLoss: 105.151199\n",
      "Train Epoch: 7 [2560/60000 (4%)]\tLoss: 106.770828\n",
      "Train Epoch: 7 [3840/60000 (6%)]\tLoss: 109.752167\n",
      "Train Epoch: 7 [5120/60000 (9%)]\tLoss: 104.764404\n",
      "Train Epoch: 7 [6400/60000 (11%)]\tLoss: 105.264488\n",
      "Train Epoch: 7 [7680/60000 (13%)]\tLoss: 110.703796\n",
      "Train Epoch: 7 [8960/60000 (15%)]\tLoss: 105.687378\n",
      "Train Epoch: 7 [10240/60000 (17%)]\tLoss: 106.369965\n",
      "Train Epoch: 7 [11520/60000 (19%)]\tLoss: 106.445877\n",
      "Train Epoch: 7 [12800/60000 (21%)]\tLoss: 109.759247\n",
      "Train Epoch: 7 [14080/60000 (23%)]\tLoss: 111.180801\n",
      "Train Epoch: 7 [15360/60000 (26%)]\tLoss: 109.155556\n",
      "Train Epoch: 7 [16640/60000 (28%)]\tLoss: 107.502411\n",
      "Train Epoch: 7 [17920/60000 (30%)]\tLoss: 108.900955\n",
      "Train Epoch: 7 [19200/60000 (32%)]\tLoss: 107.679291\n",
      "Train Epoch: 7 [20480/60000 (34%)]\tLoss: 104.110657\n",
      "Train Epoch: 7 [21760/60000 (36%)]\tLoss: 104.059555\n",
      "Train Epoch: 7 [23040/60000 (38%)]\tLoss: 108.629288\n",
      "Train Epoch: 7 [24320/60000 (41%)]\tLoss: 108.741364\n",
      "Train Epoch: 7 [25600/60000 (43%)]\tLoss: 110.886246\n",
      "Train Epoch: 7 [26880/60000 (45%)]\tLoss: 105.810905\n",
      "Train Epoch: 7 [28160/60000 (47%)]\tLoss: 107.253403\n",
      "Train Epoch: 7 [29440/60000 (49%)]\tLoss: 111.159050\n",
      "Train Epoch: 7 [30720/60000 (51%)]\tLoss: 104.995567\n",
      "Train Epoch: 7 [32000/60000 (53%)]\tLoss: 105.858704\n",
      "Train Epoch: 7 [33280/60000 (55%)]\tLoss: 108.657417\n",
      "Train Epoch: 7 [34560/60000 (58%)]\tLoss: 103.215836\n"
     ]
    },
    {
     "name": "stdout",
     "output_type": "stream",
     "text": [
      "Train Epoch: 7 [35840/60000 (60%)]\tLoss: 111.149063\n",
      "Train Epoch: 7 [37120/60000 (62%)]\tLoss: 110.014717\n",
      "Train Epoch: 7 [38400/60000 (64%)]\tLoss: 101.231873\n",
      "Train Epoch: 7 [39680/60000 (66%)]\tLoss: 110.390381\n",
      "Train Epoch: 7 [40960/60000 (68%)]\tLoss: 107.546425\n",
      "Train Epoch: 7 [42240/60000 (70%)]\tLoss: 104.230209\n",
      "Train Epoch: 7 [43520/60000 (72%)]\tLoss: 107.413704\n",
      "Train Epoch: 7 [44800/60000 (75%)]\tLoss: 106.638268\n",
      "Train Epoch: 7 [46080/60000 (77%)]\tLoss: 104.761429\n",
      "Train Epoch: 7 [47360/60000 (79%)]\tLoss: 108.106873\n",
      "Train Epoch: 7 [48640/60000 (81%)]\tLoss: 106.983551\n",
      "Train Epoch: 7 [49920/60000 (83%)]\tLoss: 102.710205\n",
      "Train Epoch: 7 [51200/60000 (85%)]\tLoss: 103.932655\n",
      "Train Epoch: 7 [52480/60000 (87%)]\tLoss: 102.515167\n",
      "Train Epoch: 7 [53760/60000 (90%)]\tLoss: 107.715500\n",
      "Train Epoch: 7 [55040/60000 (92%)]\tLoss: 103.997047\n",
      "Train Epoch: 7 [56320/60000 (94%)]\tLoss: 108.708130\n",
      "Train Epoch: 7 [57600/60000 (96%)]\tLoss: 107.148682\n",
      "Train Epoch: 7 [58880/60000 (98%)]\tLoss: 107.822922\n",
      "====> Epoch: 7 Average loss: 107.5075\n",
      "====> Test set loss: 106.6516\n",
      "Train Epoch: 8 [0/60000 (0%)]\tLoss: 106.534126\n",
      "Train Epoch: 8 [1280/60000 (2%)]\tLoss: 108.221603\n",
      "Train Epoch: 8 [2560/60000 (4%)]\tLoss: 105.284637\n",
      "Train Epoch: 8 [3840/60000 (6%)]\tLoss: 107.558380\n",
      "Train Epoch: 8 [5120/60000 (9%)]\tLoss: 106.105537\n",
      "Train Epoch: 8 [6400/60000 (11%)]\tLoss: 107.370575\n",
      "Train Epoch: 8 [7680/60000 (13%)]\tLoss: 109.720612\n",
      "Train Epoch: 8 [8960/60000 (15%)]\tLoss: 109.299088\n",
      "Train Epoch: 8 [10240/60000 (17%)]\tLoss: 106.319641\n",
      "Train Epoch: 8 [11520/60000 (19%)]\tLoss: 109.585022\n",
      "Train Epoch: 8 [12800/60000 (21%)]\tLoss: 106.674080\n",
      "Train Epoch: 8 [14080/60000 (23%)]\tLoss: 106.269966\n",
      "Train Epoch: 8 [15360/60000 (26%)]\tLoss: 109.576729\n",
      "Train Epoch: 8 [16640/60000 (28%)]\tLoss: 110.411079\n",
      "Train Epoch: 8 [17920/60000 (30%)]\tLoss: 106.012909\n",
      "Train Epoch: 8 [19200/60000 (32%)]\tLoss: 106.053307\n",
      "Train Epoch: 8 [20480/60000 (34%)]\tLoss: 108.825516\n",
      "Train Epoch: 8 [21760/60000 (36%)]\tLoss: 105.838577\n",
      "Train Epoch: 8 [23040/60000 (38%)]\tLoss: 105.344330\n",
      "Train Epoch: 8 [24320/60000 (41%)]\tLoss: 110.545532\n",
      "Train Epoch: 8 [25600/60000 (43%)]\tLoss: 106.104523\n",
      "Train Epoch: 8 [26880/60000 (45%)]\tLoss: 105.712257\n",
      "Train Epoch: 8 [28160/60000 (47%)]\tLoss: 106.070389\n",
      "Train Epoch: 8 [29440/60000 (49%)]\tLoss: 108.890411\n",
      "Train Epoch: 8 [30720/60000 (51%)]\tLoss: 105.413162\n",
      "Train Epoch: 8 [32000/60000 (53%)]\tLoss: 105.590889\n",
      "Train Epoch: 8 [33280/60000 (55%)]\tLoss: 111.485168\n",
      "Train Epoch: 8 [34560/60000 (58%)]\tLoss: 104.150871\n",
      "Train Epoch: 8 [35840/60000 (60%)]\tLoss: 108.547928\n",
      "Train Epoch: 8 [37120/60000 (62%)]\tLoss: 104.792427\n",
      "Train Epoch: 8 [38400/60000 (64%)]\tLoss: 107.645058\n",
      "Train Epoch: 8 [39680/60000 (66%)]\tLoss: 108.203499\n",
      "Train Epoch: 8 [40960/60000 (68%)]\tLoss: 103.013977\n",
      "Train Epoch: 8 [42240/60000 (70%)]\tLoss: 108.444572\n",
      "Train Epoch: 8 [43520/60000 (72%)]\tLoss: 110.181885\n",
      "Train Epoch: 8 [44800/60000 (75%)]\tLoss: 102.195686\n",
      "Train Epoch: 8 [46080/60000 (77%)]\tLoss: 105.836060\n",
      "Train Epoch: 8 [47360/60000 (79%)]\tLoss: 101.913345\n",
      "Train Epoch: 8 [48640/60000 (81%)]\tLoss: 111.218987\n",
      "Train Epoch: 8 [49920/60000 (83%)]\tLoss: 103.313782\n",
      "Train Epoch: 8 [51200/60000 (85%)]\tLoss: 102.290306\n",
      "Train Epoch: 8 [52480/60000 (87%)]\tLoss: 109.717865\n",
      "Train Epoch: 8 [53760/60000 (90%)]\tLoss: 109.903046\n",
      "Train Epoch: 8 [55040/60000 (92%)]\tLoss: 106.335251\n",
      "Train Epoch: 8 [56320/60000 (94%)]\tLoss: 109.328545\n",
      "Train Epoch: 8 [57600/60000 (96%)]\tLoss: 108.711594\n",
      "Train Epoch: 8 [58880/60000 (98%)]\tLoss: 104.355324\n",
      "====> Epoch: 8 Average loss: 106.8751\n",
      "====> Test set loss: 106.3291\n",
      "Train Epoch: 9 [0/60000 (0%)]\tLoss: 108.125977\n",
      "Train Epoch: 9 [1280/60000 (2%)]\tLoss: 111.794571\n",
      "Train Epoch: 9 [2560/60000 (4%)]\tLoss: 106.463516\n",
      "Train Epoch: 9 [3840/60000 (6%)]\tLoss: 107.461929\n",
      "Train Epoch: 9 [5120/60000 (9%)]\tLoss: 105.934113\n",
      "Train Epoch: 9 [6400/60000 (11%)]\tLoss: 105.197083\n",
      "Train Epoch: 9 [7680/60000 (13%)]\tLoss: 105.702682\n",
      "Train Epoch: 9 [8960/60000 (15%)]\tLoss: 107.204681\n",
      "Train Epoch: 9 [10240/60000 (17%)]\tLoss: 104.487495\n",
      "Train Epoch: 9 [11520/60000 (19%)]\tLoss: 107.607758\n",
      "Train Epoch: 9 [12800/60000 (21%)]\tLoss: 107.483345\n",
      "Train Epoch: 9 [14080/60000 (23%)]\tLoss: 109.957001\n",
      "Train Epoch: 9 [15360/60000 (26%)]\tLoss: 106.847687\n",
      "Train Epoch: 9 [16640/60000 (28%)]\tLoss: 106.711693\n",
      "Train Epoch: 9 [17920/60000 (30%)]\tLoss: 105.242798\n",
      "Train Epoch: 9 [19200/60000 (32%)]\tLoss: 109.870735\n",
      "Train Epoch: 9 [20480/60000 (34%)]\tLoss: 108.345665\n",
      "Train Epoch: 9 [21760/60000 (36%)]\tLoss: 105.715096\n",
      "Train Epoch: 9 [23040/60000 (38%)]\tLoss: 104.026855\n",
      "Train Epoch: 9 [24320/60000 (41%)]\tLoss: 102.465515\n",
      "Train Epoch: 9 [25600/60000 (43%)]\tLoss: 102.810974\n",
      "Train Epoch: 9 [26880/60000 (45%)]\tLoss: 105.623535\n",
      "Train Epoch: 9 [28160/60000 (47%)]\tLoss: 104.490440\n",
      "Train Epoch: 9 [29440/60000 (49%)]\tLoss: 106.878548\n",
      "Train Epoch: 9 [30720/60000 (51%)]\tLoss: 107.832504\n",
      "Train Epoch: 9 [32000/60000 (53%)]\tLoss: 109.315651\n",
      "Train Epoch: 9 [33280/60000 (55%)]\tLoss: 105.544853\n",
      "Train Epoch: 9 [34560/60000 (58%)]\tLoss: 105.305580\n",
      "Train Epoch: 9 [35840/60000 (60%)]\tLoss: 106.559845\n",
      "Train Epoch: 9 [37120/60000 (62%)]\tLoss: 110.777542\n",
      "Train Epoch: 9 [38400/60000 (64%)]\tLoss: 107.707092\n",
      "Train Epoch: 9 [39680/60000 (66%)]\tLoss: 109.012070\n",
      "Train Epoch: 9 [40960/60000 (68%)]\tLoss: 106.487106\n",
      "Train Epoch: 9 [42240/60000 (70%)]\tLoss: 103.488586\n",
      "Train Epoch: 9 [43520/60000 (72%)]\tLoss: 104.247246\n",
      "Train Epoch: 9 [44800/60000 (75%)]\tLoss: 100.585770\n",
      "Train Epoch: 9 [46080/60000 (77%)]\tLoss: 109.659889\n",
      "Train Epoch: 9 [47360/60000 (79%)]\tLoss: 107.545067\n",
      "Train Epoch: 9 [48640/60000 (81%)]\tLoss: 104.897682\n",
      "Train Epoch: 9 [49920/60000 (83%)]\tLoss: 104.300728\n",
      "Train Epoch: 9 [51200/60000 (85%)]\tLoss: 111.009850\n",
      "Train Epoch: 9 [52480/60000 (87%)]\tLoss: 106.554352\n",
      "Train Epoch: 9 [53760/60000 (90%)]\tLoss: 108.481178\n",
      "Train Epoch: 9 [55040/60000 (92%)]\tLoss: 106.178619\n",
      "Train Epoch: 9 [56320/60000 (94%)]\tLoss: 107.750328\n",
      "Train Epoch: 9 [57600/60000 (96%)]\tLoss: 108.784927\n",
      "Train Epoch: 9 [58880/60000 (98%)]\tLoss: 107.852005\n",
      "====> Epoch: 9 Average loss: 106.3581\n",
      "====> Test set loss: 105.7095\n",
      "Train Epoch: 10 [0/60000 (0%)]\tLoss: 109.207535\n",
      "Train Epoch: 10 [1280/60000 (2%)]\tLoss: 101.909500\n",
      "Train Epoch: 10 [2560/60000 (4%)]\tLoss: 106.648468\n",
      "Train Epoch: 10 [3840/60000 (6%)]\tLoss: 105.505157\n",
      "Train Epoch: 10 [5120/60000 (9%)]\tLoss: 107.419418\n",
      "Train Epoch: 10 [6400/60000 (11%)]\tLoss: 106.483765\n",
      "Train Epoch: 10 [7680/60000 (13%)]\tLoss: 106.311646\n",
      "Train Epoch: 10 [8960/60000 (15%)]\tLoss: 106.258865\n",
      "Train Epoch: 10 [10240/60000 (17%)]\tLoss: 108.409912\n",
      "Train Epoch: 10 [11520/60000 (19%)]\tLoss: 107.340706\n",
      "Train Epoch: 10 [12800/60000 (21%)]\tLoss: 105.218483\n",
      "Train Epoch: 10 [14080/60000 (23%)]\tLoss: 103.842987\n",
      "Train Epoch: 10 [15360/60000 (26%)]\tLoss: 108.293945\n",
      "Train Epoch: 10 [16640/60000 (28%)]\tLoss: 106.879829\n",
      "Train Epoch: 10 [17920/60000 (30%)]\tLoss: 103.799271\n",
      "Train Epoch: 10 [19200/60000 (32%)]\tLoss: 105.230873\n",
      "Train Epoch: 10 [20480/60000 (34%)]\tLoss: 103.530640\n",
      "Train Epoch: 10 [21760/60000 (36%)]\tLoss: 104.981148\n",
      "Train Epoch: 10 [23040/60000 (38%)]\tLoss: 106.925552\n",
      "Train Epoch: 10 [24320/60000 (41%)]\tLoss: 103.798721\n",
      "Train Epoch: 10 [25600/60000 (43%)]\tLoss: 103.726463\n",
      "Train Epoch: 10 [26880/60000 (45%)]\tLoss: 107.195549\n",
      "Train Epoch: 10 [28160/60000 (47%)]\tLoss: 104.365128\n",
      "Train Epoch: 10 [29440/60000 (49%)]\tLoss: 101.697334\n",
      "Train Epoch: 10 [30720/60000 (51%)]\tLoss: 106.029953\n",
      "Train Epoch: 10 [32000/60000 (53%)]\tLoss: 106.541023\n",
      "Train Epoch: 10 [33280/60000 (55%)]\tLoss: 109.147392\n",
      "Train Epoch: 10 [34560/60000 (58%)]\tLoss: 104.566330\n",
      "Train Epoch: 10 [35840/60000 (60%)]\tLoss: 104.688019\n",
      "Train Epoch: 10 [37120/60000 (62%)]\tLoss: 105.945793\n",
      "Train Epoch: 10 [38400/60000 (64%)]\tLoss: 106.904747\n",
      "Train Epoch: 10 [39680/60000 (66%)]\tLoss: 108.659195\n",
      "Train Epoch: 10 [40960/60000 (68%)]\tLoss: 102.500832\n",
      "Train Epoch: 10 [42240/60000 (70%)]\tLoss: 108.576248\n",
      "Train Epoch: 10 [43520/60000 (72%)]\tLoss: 107.143883\n",
      "Train Epoch: 10 [44800/60000 (75%)]\tLoss: 103.786118\n",
      "Train Epoch: 10 [46080/60000 (77%)]\tLoss: 106.787140\n",
      "Train Epoch: 10 [47360/60000 (79%)]\tLoss: 108.720551\n",
      "Train Epoch: 10 [48640/60000 (81%)]\tLoss: 107.602463\n",
      "Train Epoch: 10 [49920/60000 (83%)]\tLoss: 106.544052\n",
      "Train Epoch: 10 [51200/60000 (85%)]\tLoss: 107.455215\n",
      "Train Epoch: 10 [52480/60000 (87%)]\tLoss: 103.523178\n"
     ]
    },
    {
     "name": "stdout",
     "output_type": "stream",
     "text": [
      "Train Epoch: 10 [53760/60000 (90%)]\tLoss: 105.661972\n",
      "Train Epoch: 10 [55040/60000 (92%)]\tLoss: 104.238968\n",
      "Train Epoch: 10 [56320/60000 (94%)]\tLoss: 102.780594\n",
      "Train Epoch: 10 [57600/60000 (96%)]\tLoss: 110.743851\n",
      "Train Epoch: 10 [58880/60000 (98%)]\tLoss: 109.764740\n",
      "====> Epoch: 10 Average loss: 105.9525\n",
      "====> Test set loss: 105.2553\n"
     ]
    }
   ],
   "source": [
    "if __name__ == \"__main__\":\n",
    "    for epoch in range(1, args.epochs + 1):\n",
    "        train(epoch)\n",
    "        test(epoch)\n",
    "        with torch.no_grad():\n",
    "            sample = torch.randn(64, 20).to(device)\n",
    "            sample = model.decode(sample).cpu()\n",
    "            save_image(sample.view(64, 1, 28, 28),\n",
    "                       'results/sample_' + str(epoch) + '.png')"
   ]
  },
  {
   "cell_type": "code",
   "execution_count": 8,
   "metadata": {},
   "outputs": [
    {
     "data": {
      "image/png": "[encoded data removed]",
      "text/plain": [
       "<Figure size 432x288 with 1 Axes>"
      ]
     },
     "metadata": {
      "needs_background": "light"
     },
     "output_type": "display_data"
    }
   ],
   "source": [
    "input_dim = 28 * 28\n",
    "for batch_idx, (data, _) in enumerate(train_loader):\n",
    "        data = data.to(device)\n",
    "        inputs = Variable(data.resize_(args.batch_size, input_dim))\n",
    "\n",
    "modeled_data = model(inputs)\n",
    "model_data = modeled_data[0].reshape(args.batch_size, input_dim)\n",
    "#print(input_data)        \n",
    "plt.imshow(model_data[0].detach().numpy().reshape(28, 28), cmap='gray')\n",
    "plt.show(block=True)"
   ]
  },
  {
   "cell_type": "code",
   "execution_count": 9,
   "metadata": {},
   "outputs": [
    {
     "data": {
      "image/png": "[encoded data removed]",
      "text/plain": [
       "<Figure size 432x288 with 1 Axes>"
      ]
     },
     "metadata": {
      "needs_background": "light"
     },
     "output_type": "display_data"
    }
   ],
   "source": [
    "plt.imshow(model_data[1].detach().numpy().reshape(28, 28), cmap='gray')\n",
    "plt.show(block=True)"
   ]
  },
  {
   "cell_type": "code",
   "execution_count": 10,
   "metadata": {},
   "outputs": [
    {
     "data": {
      "image/png": "[encoded data removed]",
      "text/plain": [
       "<Figure size 432x288 with 1 Axes>"
      ]
     },
     "metadata": {
      "needs_background": "light"
     },
     "output_type": "display_data"
    }
   ],
   "source": [
    "plt.imshow(model_data[2].detach().numpy().reshape(28, 28), cmap='gray')\n",
    "plt.show(block=True)"
   ]
  },
  {
   "cell_type": "code",
   "execution_count": 11,
   "metadata": {},
   "outputs": [
    {
     "data": {
      "image/png": "[encoded data removed]",
      "text/plain": [
       "<Figure size 432x288 with 1 Axes>"
      ]
     },
     "metadata": {
      "needs_background": "light"
     },
     "output_type": "display_data"
    }
   ],
   "source": [
    "plt.imshow(model_data[3].detach().numpy().reshape(28, 28), cmap='gray')\n",
    "plt.show(block=True)"
   ]
  },
  {
   "cell_type": "code",
   "execution_count": 12,
   "metadata": {},
   "outputs": [
    {
     "data": {
      "image/png": "[encoded data removed]",
      "text/plain": [
       "<Figure size 432x288 with 1 Axes>"
      ]
     },
     "metadata": {
      "needs_background": "light"
     },
     "output_type": "display_data"
    }
   ],
   "source": [
    "plt.imshow(model_data[4].detach().numpy().reshape(28, 28), cmap='gray')\n",
    "plt.show(block=True)"
   ]
  },
  {
   "cell_type": "code",
   "execution_count": 13,
   "metadata": {},
   "outputs": [
    {
     "data": {
      "image/png": "[encoded data removed]",
      "text/plain": [
       "<Figure size 432x288 with 1 Axes>"
      ]
     },
     "metadata": {
      "needs_background": "light"
     },
     "output_type": "display_data"
    }
   ],
   "source": [
    "plt.imshow(model_data[5].detach().numpy().reshape(28, 28), cmap='gray')\n",
    "plt.show(block=True)"
   ]
  },
  {
   "cell_type": "code",
   "execution_count": 14,
   "metadata": {},
   "outputs": [
    {
     "data": {
      "image/png": "[encoded data removed]",
      "text/plain": [
       "<Figure size 432x288 with 1 Axes>"
      ]
     },
     "metadata": {
      "needs_background": "light"
     },
     "output_type": "display_data"
    }
   ],
   "source": [
    "plt.imshow(model_data[6].detach().numpy().reshape(28, 28), cmap='gray')\n",
    "plt.show(block=True)"
   ]
  },
  {
   "cell_type": "code",
   "execution_count": 15,
   "metadata": {},
   "outputs": [
    {
     "data": {
      "image/png": "[encoded data removed]",
      "text/plain": [
       "<Figure size 432x288 with 1 Axes>"
      ]
     },
     "metadata": {
      "needs_background": "light"
     },
     "output_type": "display_data"
    }
   ],
   "source": [
    "plt.imshow(model_data[7].detach().numpy().reshape(28, 28), cmap='gray')\n",
    "plt.show(block=True)"
   ]
  },
  {
   "cell_type": "code",
   "execution_count": 16,
   "metadata": {},
   "outputs": [
    {
     "data": {
      "image/png": "[encoded data removed]",
      "text/plain": [
       "<Figure size 432x288 with 1 Axes>"
      ]
     },
     "metadata": {
      "needs_background": "light"
     },
     "output_type": "display_data"
    }
   ],
   "source": [
    "plt.imshow(model_data[8].detach().numpy().reshape(28, 28), cmap='gray')\n",
    "plt.show(block=True)"
   ]
  },
  {
   "cell_type": "code",
   "execution_count": 17,
   "metadata": {},
   "outputs": [
    {
     "data": {
      "image/png": "[encoded data removed]",
      "text/plain": [
       "<Figure size 432x288 with 1 Axes>"
      ]
     },
     "metadata": {
      "needs_background": "light"
     },
     "output_type": "display_data"
    }
   ],
   "source": [
    "plt.imshow(model_data[9].detach().numpy().reshape(28, 28), cmap='gray')\n",
    "plt.show(block=True)"
   ]
  },
  {
   "cell_type": "code",
   "execution_count": 18,
   "metadata": {},
   "outputs": [
    {
     "data": {
      "image/png": "[encoded data removed]",
      "text/plain": [
       "<Figure size 432x288 with 1 Axes>"
      ]
     },
     "metadata": {
      "needs_background": "light"
     },
     "output_type": "display_data"
    }
   ],
   "source": [
    "plt.imshow(model_data[10].detach().numpy().reshape(28, 28), cmap='gray')\n",
    "plt.show(block=True)"
   ]
  },
  {
   "cell_type": "code",
   "execution_count": 19,
   "metadata": {},
   "outputs": [
    {
     "data": {
      "image/png": "[encoded data removed]",
      "text/plain": [
       "<Figure size 432x288 with 1 Axes>"
      ]
     },
     "metadata": {
      "needs_background": "light"
     },
     "output_type": "display_data"
    }
   ],
   "source": [
    "plt.imshow(model_data[11].detach().numpy().reshape(28, 28), cmap='gray')\n",
    "plt.show(block=True)"
   ]
  },
  {
   "cell_type": "code",
   "execution_count": 20,
   "metadata": {},
   "outputs": [
    {
     "data": {
      "image/png": "[encoded data removed]",
      "text/plain": [
       "<Figure size 432x288 with 1 Axes>"
      ]
     },
     "metadata": {
      "needs_background": "light"
     },
     "output_type": "display_data"
    }
   ],
   "source": [
    "plt.imshow(model_data[12].detach().numpy().reshape(28, 28), cmap='gray')\n",
    "plt.show(block=True)"
   ]
  },
  {
   "cell_type": "code",
   "execution_count": 21,
   "metadata": {},
   "outputs": [
    {
     "data": {
      "image/png": "[encoded data removed]",
      "text/plain": [
       "<Figure size 432x288 with 1 Axes>"
      ]
     },
     "metadata": {
      "needs_background": "light"
     },
     "output_type": "display_data"
    }
   ],
   "source": [
    "plt.imshow(model_data[13].detach().numpy().reshape(28, 28), cmap='gray')\n",
    "plt.show(block=True)"
   ]
  },
  {
   "cell_type": "code",
   "execution_count": 22,
   "metadata": {},
   "outputs": [
    {
     "data": {
      "image/png": "[encoded data removed]",
      "text/plain": [
       "<Figure size 432x288 with 1 Axes>"
      ]
     },
     "metadata": {
      "needs_background": "light"
     },
     "output_type": "display_data"
    }
   ],
   "source": [
    "plt.imshow(model_data[14].detach().numpy().reshape(28, 28), cmap='gray')\n",
    "plt.show(block=True)"
   ]
  },
  {
   "cell_type": "code",
   "execution_count": 23,
   "metadata": {},
   "outputs": [
    {
     "data": {
      "image/png": "[encoded data removed]",
      "text/plain": [
       "<Figure size 432x288 with 1 Axes>"
      ]
     },
     "metadata": {
      "needs_background": "light"
     },
     "output_type": "display_data"
    }
   ],
   "source": [
    "plt.imshow(model_data[15].detach().numpy().reshape(28, 28), cmap='gray')\n",
    "plt.show(block=True)"
   ]
  },
  {
   "cell_type": "code",
   "execution_count": 24,
   "metadata": {},
   "outputs": [
    {
     "data": {
      "image/png": "[encoded data removed]",
      "text/plain": [
       "<Figure size 432x288 with 1 Axes>"
      ]
     },
     "metadata": {
      "needs_background": "light"
     },
     "output_type": "display_data"
    }
   ],
   "source": [
    "plt.imshow(model_data[16].detach().numpy().reshape(28, 28), cmap='gray')\n",
    "plt.show(block=True)"
   ]
  },
  {
   "cell_type": "code",
   "execution_count": 25,
   "metadata": {},
   "outputs": [
    {
     "data": {
      "image/png": "[encoded data removed]",
      "text/plain": [
       "<Figure size 432x288 with 1 Axes>"
      ]
     },
     "metadata": {
      "needs_background": "light"
     },
     "output_type": "display_data"
    }
   ],
   "source": [
    "plt.imshow(model_data[17].detach().numpy().reshape(28, 28), cmap='gray')\n",
    "plt.show(block=True)"
   ]
  },
  {
   "cell_type": "code",
   "execution_count": 26,
   "metadata": {},
   "outputs": [
    {
     "data": {
      "image/png": "[encoded data removed]",
      "text/plain": [
       "<Figure size 432x288 with 1 Axes>"
      ]
     },
     "metadata": {
      "needs_background": "light"
     },
     "output_type": "display_data"
    }
   ],
   "source": [
    "plt.imshow(model_data[18].detach().numpy().reshape(28, 28), cmap='gray')\n",
    "plt.show(block=True)"
   ]
  },
  {
   "cell_type": "code",
   "execution_count": 27,
   "metadata": {},
   "outputs": [
    {
     "data": {
      "image/png": "[encoded data removed]",
      "text/plain": [
       "<Figure size 432x288 with 1 Axes>"
      ]
     },
     "metadata": {
      "needs_background": "light"
     },
     "output_type": "display_data"
    }
   ],
   "source": [
    "plt.imshow(model_data[19].detach().numpy().reshape(28, 28), cmap='gray')\n",
    "plt.show(block=True)"
   ]
  },
  {
   "cell_type": "code",
   "execution_count": 28,
   "metadata": {},
   "outputs": [
    {
     "data": {
      "image/png": "[encoded data removed]",
      "text/plain": [
       "<Figure size 432x288 with 1 Axes>"
      ]
     },
     "metadata": {
      "needs_background": "light"
     },
     "output_type": "display_data"
    }
   ],
   "source": [
    "plt.imshow(model_data[20].detach().numpy().reshape(28, 28), cmap='gray')\n",
    "plt.show(block=True)"
   ]
  },
  {
   "cell_type": "code",
   "execution_count": 29,
   "metadata": {},
   "outputs": [
    {
     "data": {
      "image/png": "[encoded data removed]",
      "text/plain": [
       "<Figure size 432x288 with 1 Axes>"
      ]
     },
     "metadata": {
      "needs_background": "light"
     },
     "output_type": "display_data"
    }
   ],
   "source": [
    "plt.imshow(model_data[21].detach().numpy().reshape(28, 28), cmap='gray')\n",
    "plt.show(block=True)"
   ]
  },
  {
   "cell_type": "code",
   "execution_count": 30,
   "metadata": {},
   "outputs": [
    {
     "data": {
      "image/png": "[encoded data removed]",
      "text/plain": [
       "<Figure size 432x288 with 1 Axes>"
      ]
     },
     "metadata": {
      "needs_background": "light"
     },
     "output_type": "display_data"
    }
   ],
   "source": [
    "plt.imshow(model_data[22].detach().numpy().reshape(28, 28), cmap='gray')\n",
    "plt.show(block=True)"
   ]
  },
  {
   "cell_type": "code",
   "execution_count": 31,
   "metadata": {},
   "outputs": [
    {
     "data": {
      "image/png": "[encoded data removed]",
      "text/plain": [
       "<Figure size 432x288 with 1 Axes>"
      ]
     },
     "metadata": {
      "needs_background": "light"
     },
     "output_type": "display_data"
    }
   ],
   "source": [
    "plt.imshow(model_data[23].detach().numpy().reshape(28, 28), cmap='gray')\n",
    "plt.show(block=True)"
   ]
  },
  {
   "cell_type": "code",
   "execution_count": 32,
   "metadata": {},
   "outputs": [
    {
     "data": {
      "image/png": "[encoded data removed]",
      "text/plain": [
       "<Figure size 432x288 with 1 Axes>"
      ]
     },
     "metadata": {
      "needs_background": "light"
     },
     "output_type": "display_data"
    }
   ],
   "source": [
    "plt.imshow(model_data[24].detach().numpy().reshape(28, 28), cmap='gray')\n",
    "plt.show(block=True)"
   ]
  },
  {
   "cell_type": "code",
   "execution_count": 33,
   "metadata": {},
   "outputs": [
    {
     "data": {
      "image/png": "[encoded data removed]",
      "text/plain": [
       "<Figure size 432x288 with 1 Axes>"
      ]
     },
     "metadata": {
      "needs_background": "light"
     },
     "output_type": "display_data"
    }
   ],
   "source": [
    "plt.imshow(model_data[25].detach().numpy().reshape(28, 28), cmap='gray')\n",
    "plt.show(block=True)"
   ]
  },
  {
   "cell_type": "code",
   "execution_count": 34,
   "metadata": {},
   "outputs": [
    {
     "data": {
      "image/png": "[encoded data removed]",
      "text/plain": [
       "<Figure size 432x288 with 1 Axes>"
      ]
     },
     "metadata": {
      "needs_background": "light"
     },
     "output_type": "display_data"
    }
   ],
   "source": [
    "plt.imshow(model_data[26].detach().numpy().reshape(28, 28), cmap='gray')\n",
    "plt.show(block=True)"
   ]
  },
  {
   "cell_type": "code",
   "execution_count": 35,
   "metadata": {},
   "outputs": [
    {
     "data": {
      "image/png": "[encoded data removed]",
      "text/plain": [
       "<Figure size 432x288 with 1 Axes>"
      ]
     },
     "metadata": {
      "needs_background": "light"
     },
     "output_type": "display_data"
    }
   ],
   "source": [
    "plt.imshow(model_data[27].detach().numpy().reshape(28, 28), cmap='gray')\n",
    "plt.show(block=True)"
   ]
  },
  {
   "cell_type": "code",
   "execution_count": 36,
   "metadata": {},
   "outputs": [
    {
     "data": {
      "image/png": "[encoded data removed]",
      "text/plain": [
       "<Figure size 432x288 with 1 Axes>"
      ]
     },
     "metadata": {
      "needs_background": "light"
     },
     "output_type": "display_data"
    }
   ],
   "source": [
    "plt.imshow(model_data[28].detach().numpy().reshape(28, 28), cmap='gray')\n",
    "plt.show(block=True)"
   ]
  },
  {
   "cell_type": "code",
   "execution_count": 37,
   "metadata": {},
   "outputs": [
    {
     "data": {
      "image/png": "[encoded data removed]",
      "text/plain": [
       "<Figure size 432x288 with 1 Axes>"
      ]
     },
     "metadata": {
      "needs_background": "light"
     },
     "output_type": "display_data"
    }
   ],
   "source": [
    "plt.imshow(model_data[29].detach().numpy().reshape(28, 28), cmap='gray')\n",
    "plt.show(block=True)"
   ]
  },
  {
   "cell_type": "code",
   "execution_count": 38,
   "metadata": {},
   "outputs": [
    {
     "data": {
      "image/png": "[encoded data removed]",
      "text/plain": [
       "<Figure size 432x288 with 1 Axes>"
      ]
     },
     "metadata": {
      "needs_background": "light"
     },
     "output_type": "display_data"
    }
   ],
   "source": [
    "plt.imshow(model_data[30].detach().numpy().reshape(28, 28), cmap='gray')\n",
    "plt.show(block=True)"
   ]
  },
  {
   "cell_type": "code",
   "execution_count": 39,
   "metadata": {},
   "outputs": [
    {
     "data": {
      "image/png": "[encoded data removed]",
      "text/plain": [
       "<Figure size 432x288 with 1 Axes>"
      ]
     },
     "metadata": {
      "needs_background": "light"
     },
     "output_type": "display_data"
    }
   ],
   "source": [
    "plt.imshow(model_data[31].detach().numpy().reshape(28, 28), cmap='gray')\n",
    "plt.show(block=True)"
   ]
  },
  {
   "cell_type": "code",
   "execution_count": null,
   "metadata": {},
   "outputs": [],
   "source": []
  }
 ],
 "metadata": {
  "kernelspec": {
   "display_name": "Python 3",
   "language": "python",
   "name": "python3"
  },
  "language_info": {
   "codemirror_mode": {
    "name": "ipython",
    "version": 3
   },
   "file_extension": ".py",
   "mimetype": "text/x-python",
   "name": "python",
   "nbconvert_exporter": "python",
   "pygments_lexer": "ipython3",
   "version": "3.6.12"
  }
 },
 "nbformat": 4,
 "nbformat_minor": 2
}
